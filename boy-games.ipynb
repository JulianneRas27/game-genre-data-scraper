{
 "cells": [
  {
   "cell_type": "code",
   "execution_count": 31,
   "metadata": {},
   "outputs": [
    {
     "name": "stdout",
     "output_type": "stream",
     "text": [
      "['https://www.girlsgogames.com/game/magic-piano-tiles', 'https://www.girlsgogames.com/game/happy-snakes', 'https://www.girlsgogames.com/game/happy-glass-2', 'https://www.girlsgogames.com/game/geometry-neon-dash', 'https://www.girlsgogames.com/game/burger-shop', 'https://www.girlsgogames.com/game/kill-time-in-the-office', 'https://www.girlsgogames.com/game/wormszone', 'https://www.girlsgogames.com/game/traffic-run', 'https://www.girlsgogames.com/game/rescue-rift', 'https://www.girlsgogames.com/game/world-craft-2', 'https://www.girlsgogames.com/game/snakes-and-ladders', 'https://www.girlsgogames.com/game/my_dolphin_show_4', 'https://www.girlsgogames.com/game/city-driver-destroy-car', 'https://www.girlsgogames.com/game/fireboy__watergirl_4_crystal_temple', 'https://www.girlsgogames.com/game/pizza-cafe', 'https://www.girlsgogames.com/game/girls-dash', 'https://www.girlsgogames.com/game/piano-tiles-reflex', 'https://www.girlsgogames.com/game/uphill-rush-7-waterpark', 'https://www.girlsgogames.com/game/tomb-runner', 'https://www.girlsgogames.com/game/moto-x3m', 'https://www.girlsgogames.com/game/hill-climb-racing', 'https://www.girlsgogames.com/game/bartender-', 'https://www.girlsgogames.com/game/holeio', 'http://www.girlsgogames.com/game/avie-pocket-birthday', 'https://www.girlsgogames.com/game/world-crafts', 'https://www.girlsgogames.com/game/highway-racer-3d', 'https://www.girlsgogames.com/game/flipsurfio', 'https://www.girlsgogames.com/game/thrill-rush-3', 'https://www.girlsgogames.com/game/pixel-craft', 'https://www.girlsgogames.com/game/farmington', 'https://www.girlsgogames.com/game/thrill-rush-4', 'https://www.girlsgogames.com/game/uphill-rush-slide-jump', 'https://www.girlsgogames.com/game/moto-madness', 'http://www.girlsgogames.com/game/thrill-rush-5', 'https://www.girlsgogames.com/game/bus-subway-runner-3d', 'https://www.girlsgogames.com/game/rollercoaster-creator-express', 'https://www.girlsgogames.com/games/boy-games']\n"
     ]
    }
   ],
   "source": [
    "import requests\n",
    "from bs4 import BeautifulSoup\n",
    "genre = \"https://www.girlsgogames.com/games/boy-games\"\n",
    "reqs_g = requests.get(genre)\n",
    "soup_g = BeautifulSoup(reqs_g.text, 'html.parser')\n",
    "each_list_of_games= []\n",
    "urls_g = []\n",
    "for link_g in soup_g.find_all('a'):\n",
    "    game_link = link_g.get(\"href\")\n",
    "    urls_g.append(game_link)\n",
    "\n",
    "#REMOVE UNNECESSARY LINKS\n",
    "#index_of_first = urls_g.index(\"https://www.girlsgogames.com/games\")\n",
    "#del urls_g[0:index_of_first + 1]\n",
    "del urls_g[0:206]\n",
    "\n",
    "index_of_second = urls_g.index(f\"https://www.girlsgogames.com/games/boy-games\")\n",
    "to_use = len(urls_g) - index_of_second - 1\n",
    "del urls_g[len(urls_g)-to_use:len(urls_g)]\n",
    "for game in urls_g:\n",
    "    each_list_of_games.append(game)\n",
    "\n",
    "print(urls_g)\n",
    "\n",
    "boy_games = urls_g"
   ]
  }
 ],
 "metadata": {
  "kernelspec": {
   "display_name": "Python 3",
   "language": "python",
   "name": "python3"
  },
  "language_info": {
   "codemirror_mode": {
    "name": "ipython",
    "version": 3
   },
   "file_extension": ".py",
   "mimetype": "text/x-python",
   "name": "python",
   "nbconvert_exporter": "python",
   "pygments_lexer": "ipython3",
   "version": "3.11.5"
  }
 },
 "nbformat": 4,
 "nbformat_minor": 2
}
