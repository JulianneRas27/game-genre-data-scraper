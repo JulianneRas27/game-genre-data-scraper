{
 "cells": [
  {
   "cell_type": "markdown",
   "metadata": {},
   "source": [
    "# Game Genre and Appropriateness Research Summary"
   ]
  },
  {
   "cell_type": "markdown",
   "metadata": {},
   "source": [
    "##### Julianne Rasten, Olivia Smith"
   ]
  },
  {
   "cell_type": "markdown",
   "metadata": {},
   "source": [
    "##### **Research Question:**\n",
    "\n",
    "> How appropriate and stereotypically gender divided are the free online games directed towards children?\n",
    "\n",
    "> The team shared personal experience of coming across unusal themed games on free large gaming websites at a young age. They recalled seeing many games with thumbnails of pregnant princesses, foot cleaning, tongue cleaning, mental breakdowns, and dramatic romantic scenarios. These types of games were marketed specifically towards girls by the use of often including \"girls\" in the website title. The concept led them to further wonder what similar marketed boy themed games consisted of."
   ]
  },
  {
   "cell_type": "markdown",
   "metadata": {},
   "source": [
    "##### **Methodology:**\n",
    "\n",
    "> The team scraped data from the Girls Go Games website at https://www.girlsgogames.com/allcategories in order to conduct the research necessary.\n",
    "\n",
    "> For the team to observe all of the initial relevant website features, the file was retrieved and printed as text using the requests library with the following code."
   ]
  },
  {
   "cell_type": "code",
   "execution_count": null,
   "metadata": {},
   "outputs": [],
   "source": [
    "#import requests\n",
    "\n",
    "#r = requests.get(\"https://www.girlsgogames.com/allcategories\")\n",
    "\n",
    "#print(r.text)"
   ]
  },
  {
   "cell_type": "markdown",
   "metadata": {},
   "source": [
    "> The following function was created to obtain a list of all the links within the website's main page link representing EACH CATEGORY OF GAMES, it is necessary to import both the requests and BeautifulSoup library, create a list of all the links within the main page, and limit the list to the links representing the categories alone."
   ]
  },
  {
   "cell_type": "code",
   "execution_count": 1,
   "metadata": {},
   "outputs": [],
   "source": [
    "def get_game_category_links(url):\n",
    "    \"\"\" \n",
    "    A function to get all game categories from a page of girlsgogames.com.\n",
    "\n",
    "        Args: A string url to the all catgories link on girlsgogames.com.\n",
    "\n",
    "        Output: A list of urls leading to each game category.\n",
    "    \"\"\"\n",
    "    import requests\n",
    "    from bs4 import BeautifulSoup\n",
    "    \n",
    "    #CREATES A LIST OF ALL LINKS PRESENT\n",
    "    reqs = requests.get(url)\n",
    "    soup = BeautifulSoup(reqs.text, 'html.parser')\n",
    "    \n",
    "    urls = []\n",
    "    for link in soup.find_all('a'):\n",
    "        urls.append(link.get('href'))\n",
    "        \n",
    "    #REMOVES UNNECESSARY LINKS\n",
    "    del urls[0:204]\n",
    "    del urls[len(urls)-11:len(urls)]\n",
    "\n",
    "    urls.remove(\"https://www.girlsgogames.com/games/action\")\n",
    "    urls.remove(\"https://www.girlsgogames.com/games/adventure\")\n",
    "    urls.remove(\"https://www.girlsgogames.com/games/animals\")\n",
    "    urls.remove(\"https://www.girlsgogames.com/games/art-and-creativity\")\n",
    "    urls.remove(\"https://www.girlsgogames.com/games/beauty-games\")\n",
    "    urls.remove(\"https://www.girlsgogames.com/games/cooking\")\n",
    "    urls.remove(\"https://www.girlsgogames.com/games/decoration-games\")\n",
    "    urls.remove(\"https://www.girlsgogames.com/games/dress_up\")\n",
    "    urls.remove(\"https://www.girlsgogames.com/games/love-games\")\n",
    "    urls.remove(\"https://www.girlsgogames.com/games/puzzle\")\n",
    "    urls.remove(\"https://www.girlsgogames.com/games/simulation\")\n",
    "    urls.remove(\"https://www.girlsgogames.com/games/skill\")\n",
    "    urls.remove(\"https://www.girlsgogames.com/games/specials\")\n",
    "    urls.remove(\"https://www.girlsgogames.com/games/sports\")\n",
    "\n",
    "    return urls"
   ]
  },
  {
   "cell_type": "markdown",
   "metadata": {},
   "source": [
    "> The function must be ran with the Girls Go Games main page to develop a variable of all the game categories."
   ]
  },
  {
   "cell_type": "code",
   "execution_count": 2,
   "metadata": {},
   "outputs": [
    {
     "name": "stdout",
     "output_type": "stream",
     "text": [
      "['https://www.girlsgogames.com/games/io-games', 'https://www.girlsgogames.com/games/2-player', 'https://www.girlsgogames.com/games/3d-games', 'https://www.girlsgogames.com/games/aim__shoot', 'https://www.girlsgogames.com/games/arcade', 'https://www.girlsgogames.com/games/bomb-it-games', 'https://www.girlsgogames.com/games/boy-games', 'https://www.girlsgogames.com/games/clicker', 'https://www.girlsgogames.com/games/clicking-games', 'https://www.girlsgogames.com/games/easy-games', 'https://www.girlsgogames.com/games/endless-running', 'https://www.girlsgogames.com/games/fidget-spinner', 'https://www.girlsgogames.com/games/flappy-bird', 'https://www.girlsgogames.com/games/flying-games', 'https://www.girlsgogames.com/games/fun', 'https://www.girlsgogames.com/games/funny-games', 'https://www.girlsgogames.com/games/king', 'https://www.girlsgogames.com/games/monster', 'https://www.girlsgogames.com/games/multiplayer', 'https://www.girlsgogames.com/games/nitrome-games', 'https://www.girlsgogames.com/games/pinball', 'https://www.girlsgogames.com/games/robot-games', 'https://www.girlsgogames.com/games/roller-coaster', 'https://www.girlsgogames.com/games/space-games', 'https://www.girlsgogames.com/games/superhero-games', 'https://www.girlsgogames.com/games/thrill-rush', 'https://www.girlsgogames.com/games/unity', 'https://www.girlsgogames.com/games/water-games', 'https://www.girlsgogames.com/games/webgl', 'https://www.girlsgogames.com/games/y8', 'https://www.girlsgogames.com/games/adam-and-eve', 'https://www.girlsgogames.com/games/air-games', 'https://www.girlsgogames.com/games/ambulance', 'https://www.girlsgogames.com/games/anime-games', 'https://www.girlsgogames.com/games/arcade', 'https://www.girlsgogames.com/games/avie-games', 'https://www.girlsgogames.com/games/avoiding', 'https://www.girlsgogames.com/games/beach-games', 'https://www.girlsgogames.com/games/cartoon-games', 'https://www.girlsgogames.com/games/castle-games', 'https://www.girlsgogames.com/games/clicker', 'https://www.girlsgogames.com/games/collecting', 'https://www.girlsgogames.com/games/crafting', 'https://www.girlsgogames.com/games/escaping', 'https://www.girlsgogames.com/games/fairy-games', 'https://www.girlsgogames.com/games/fantasy-games', 'https://www.girlsgogames.com/games/ghost-games', 'https://www.girlsgogames.com/games/jumping', 'https://www.girlsgogames.com/games/magic-games', 'https://www.girlsgogames.com/games/mermaid-games', 'https://www.girlsgogames.com/games/monkey-go-happy', 'https://www.girlsgogames.com/games/platform_games', 'https://www.girlsgogames.com/games/point__click', 'https://www.girlsgogames.com/games/robot-games', 'https://www.girlsgogames.com/games/roller-coaster', 'https://www.girlsgogames.com/games/role_playing_games', 'https://www.girlsgogames.com/games/school-games', 'https://www.girlsgogames.com/games/singleplayer', 'https://www.girlsgogames.com/games/slacking-games', 'https://www.girlsgogames.com/games/space-games', 'https://www.girlsgogames.com/games/sue_games', 'https://www.girlsgogames.com/games/thrill-rush', 'https://www.girlsgogames.com/games/vampire-games', 'https://www.girlsgogames.com/games/witch-games', 'https://www.girlsgogames.com/games/bunny-games', 'https://www.girlsgogames.com/games/cat_games', 'https://www.girlsgogames.com/games/chicken-games', 'https://www.girlsgogames.com/games/circus-games', 'https://www.girlsgogames.com/games/dog-games', 'https://www.girlsgogames.com/games/dolphin-games', 'https://www.girlsgogames.com/games/dragon-games', 'https://www.girlsgogames.com/games/duck-games', 'https://www.girlsgogames.com/games/fish-games', 'https://www.girlsgogames.com/games/hamster-games', 'https://www.girlsgogames.com/games/horse_games', 'https://www.girlsgogames.com/games/kitten-games', 'https://www.girlsgogames.com/games/monkey-games', 'https://www.girlsgogames.com/games/mouse-games', 'https://www.girlsgogames.com/games/my-dolphin-show', 'https://www.girlsgogames.com/games/panda-games', 'https://www.girlsgogames.com/games/penguin-games', 'https://www.girlsgogames.com/games/pet-games', 'https://www.girlsgogames.com/games/pig-games', 'https://www.girlsgogames.com/games/pony-games', 'https://www.girlsgogames.com/games/puppy-games', 'https://www.girlsgogames.com/games/rabbit-games', 'https://www.girlsgogames.com/games/sheep-games', 'https://www.girlsgogames.com/games/spider-games', 'https://www.girlsgogames.com/games/squirrel-games', 'https://www.girlsgogames.com/games/unicorn-games', 'https://www.girlsgogames.com/games/world_animal_day', 'https://www.girlsgogames.com/games/zoo-games', 'https://www.girlsgogames.com/games/art-games', 'https://www.girlsgogames.com/games/coloring-games', 'https://www.girlsgogames.com/games/creative-games', 'https://www.girlsgogames.com/games/decorating-games', 'https://www.girlsgogames.com/games/design-games', 'https://www.girlsgogames.com/games/drawing', 'https://www.girlsgogames.com/games/drum_games', 'https://www.girlsgogames.com/games/music', 'https://www.girlsgogames.com/games/painting', 'https://www.girlsgogames.com/games/piano_games', 'https://www.girlsgogames.com/games/singing_games', 'https://www.girlsgogames.com/games/girl_makeover_games', 'https://www.girlsgogames.com/games/girls', 'https://www.girlsgogames.com/games/hair-games', 'https://www.girlsgogames.com/games/hairdresser', 'https://www.girlsgogames.com/games/make_up', 'https://www.girlsgogames.com/games/makeover', 'https://www.girlsgogames.com/games/nail_studio_games', 'https://www.girlsgogames.com/games/princess', 'https://www.girlsgogames.com/games/queen-games', 'https://www.girlsgogames.com/games/salon-games', 'https://www.girlsgogames.com/games/baking', 'https://www.girlsgogames.com/games/cafe-games', 'https://www.girlsgogames.com/games/cake-games', 'https://www.girlsgogames.com/games/cupcake-games', 'https://www.girlsgogames.com/games/ice-cream-games', 'https://www.girlsgogames.com/games/kitchen', 'https://www.girlsgogames.com/games/pizza-games', 'https://www.girlsgogames.com/games/saras_cooking_class_games', 'https://www.girlsgogames.com/games/sushi-games', 'https://www.girlsgogames.com/games/thanksgiving-games', 'https://www.girlsgogames.com/games/bedroom_makeover_games', 'https://www.girlsgogames.com/games/dolls', 'https://www.girlsgogames.com/games/doll_house_games', 'https://www.girlsgogames.com/games/flower-games', 'https://www.girlsgogames.com/games/food_styling_games', 'https://www.girlsgogames.com/games/house-games', 'https://www.girlsgogames.com/games/house_makeover_games', 'https://www.girlsgogames.com/games/room_decoration', 'https://www.girlsgogames.com/games/room_makeover_games', 'https://www.girlsgogames.com/games/tattoo-games', 'https://www.girlsgogames.com/games/accessories_dress_up_games', 'https://www.girlsgogames.com/games/avie-games', 'https://www.girlsgogames.com/games/boy-dress-up-games', 'https://www.girlsgogames.com/games/casual_dress_up_games', 'https://www.girlsgogames.com/games/clothes-games', 'https://www.girlsgogames.com/games/couple_dress_up_games', 'https://www.girlsgogames.com/games/dating_dress_up_games', 'https://www.girlsgogames.com/games/doll_dress_up_games', 'https://www.girlsgogames.com/games/fashion-games', 'https://www.girlsgogames.com/games/fashion_dress_up_games', 'https://www.girlsgogames.com/games/party_dress_up_games', 'https://www.girlsgogames.com/games/picture_makeover_games', 'https://www.girlsgogames.com/games/queen-games', 'https://www.girlsgogames.com/games/shopaholic_games', 'https://www.girlsgogames.com/games/shopping-games', 'https://www.girlsgogames.com/games/sports_dress_up_games', 'https://www.girlsgogames.com/games/summer_dress_up_games', 'https://www.girlsgogames.com/games/theme_dress_up_games', 'https://www.girlsgogames.com/games/wedding_dress_up_games', 'https://www.girlsgogames.com/games/winter_dress_up_games', 'https://www.girlsgogames.com/games/boyfriend-games', 'https://www.girlsgogames.com/games/cute-games', 'https://www.girlsgogames.com/games/valentines_day_games', 'https://www.girlsgogames.com/games/wedding-games', 'https://www.girlsgogames.com/games/1001_arabian_nights_games', 'https://www.girlsgogames.com/games/10x10', 'https://www.girlsgogames.com/games/back-to-candyland', 'https://www.girlsgogames.com/games/colored_blocks', 'https://www.girlsgogames.com/games/board__card', 'https://www.girlsgogames.com/games/brain-games', 'https://www.girlsgogames.com/games/bubble_shooter', 'https://www.girlsgogames.com/games/candy', 'https://www.girlsgogames.com/games/card_solitaire', 'https://www.girlsgogames.com/games/crossword', 'https://www.girlsgogames.com/games/family-games', 'https://www.girlsgogames.com/games/fruit-games', 'https://www.girlsgogames.com/games/hidden-objects', 'https://www.girlsgogames.com/games/html5', 'https://www.girlsgogames.com/games/jigsaw-puzzle', 'https://www.girlsgogames.com/games/logic-games', 'https://www.girlsgogames.com/games/ludo', 'https://www.girlsgogames.com/games/mahjong', 'https://www.girlsgogames.com/games/match_3', 'https://www.girlsgogames.com/games/mobile_games', 'https://www.girlsgogames.com/games/mystery-games', 'https://www.girlsgogames.com/games/snailbob-games', 'https://www.girlsgogames.com/games/word_games', 'https://www.girlsgogames.com/games/ambulance', 'https://www.girlsgogames.com/games/avatars', 'https://www.girlsgogames.com/games/baby-games', 'https://www.girlsgogames.com/games/baby_hazel_games', 'https://www.girlsgogames.com/games/babysitting', 'https://www.girlsgogames.com/games/building-games', 'https://www.girlsgogames.com/games/business-games', 'https://www.girlsgogames.com/games/caring', 'https://www.girlsgogames.com/games/children-games', 'https://www.girlsgogames.com/games/cleaning-games', 'https://www.girlsgogames.com/games/dance_games', 'https://www.girlsgogames.com/games/dentist-games', 'https://www.girlsgogames.com/games/doctor-games', 'https://www.girlsgogames.com/games/farming_games', 'https://www.girlsgogames.com/games/garden-games', 'https://www.girlsgogames.com/games/hospital-games', 'https://www.girlsgogames.com/games/job-games', 'https://www.girlsgogames.com/games/kids-games', 'https://www.girlsgogames.com/games/king', 'https://www.girlsgogames.com/games/management_games', 'https://www.girlsgogames.com/games/office-games', 'https://www.girlsgogames.com/games/papas-games', 'https://www.girlsgogames.com/games/parking', 'https://www.girlsgogames.com/games/pou_games', 'https://www.girlsgogames.com/games/restaurant_games', 'https://www.girlsgogames.com/games/company', 'https://www.girlsgogames.com/games/shop-games', 'https://www.girlsgogames.com/games/slacking-games', 'https://www.girlsgogames.com/games/spa-games', 'https://www.girlsgogames.com/games/strategy', 'https://www.girlsgogames.com/games/surgery-games', 'https://www.girlsgogames.com/games/time-management', 'https://www.girlsgogames.com/games/vet-games', 'https://www.girlsgogames.com/games/award_games', 'https://www.girlsgogames.com/games/concentration', 'https://www.girlsgogames.com/games/educational', 'https://www.girlsgogames.com/games/highscore_games', 'https://www.girlsgogames.com/games/math', 'https://www.girlsgogames.com/games/memo', 'https://www.girlsgogames.com/games/quiz-games', 'https://www.girlsgogames.com/games/autumn', 'https://www.girlsgogames.com/games/avatars', 'https://www.girlsgogames.com/games/baby_hazel_games', 'https://www.girlsgogames.com/games/back_to_school_games', 'https://www.girlsgogames.com/games/beach-games', 'https://www.girlsgogames.com/games/best-of-2016', 'https://www.girlsgogames.com/games/best-of-2017', 'https://www.girlsgogames.com/games/birthday-games', 'https://www.girlsgogames.com/games/cartoon-games', 'https://www.girlsgogames.com/games/celebrity', 'https://www.girlsgogames.com/games/christmas_games', 'https://www.girlsgogames.com/games/easter_games', 'https://www.girlsgogames.com/games/easy-games', 'https://www.girlsgogames.com/games/fun', 'https://www.girlsgogames.com/games/funny-games', 'https://www.girlsgogames.com/games/halloween_games', 'https://www.girlsgogames.com/games/holiday-games', 'https://www.girlsgogames.com/games/mothers-day-games', 'https://www.girlsgogames.com/games/movie-games', 'https://www.girlsgogames.com/games/party-games', 'https://www.girlsgogames.com/games/santa-games', 'https://www.girlsgogames.com/games/school-games', 'https://www.girlsgogames.com/games/singleplayer', 'https://www.girlsgogames.com/games/snow-games', 'https://www.girlsgogames.com/games/summer-games', 'https://www.girlsgogames.com/games/top-100', 'https://www.girlsgogames.com/games/unity', 'https://www.girlsgogames.com/games/winter-games', 'https://www.girlsgogames.com/games/basketball', 'https://www.girlsgogames.com/games/bike', 'https://www.girlsgogames.com/games/boat-racing', 'https://www.girlsgogames.com/games/car-games', 'https://www.girlsgogames.com/games/city-racing', 'https://www.girlsgogames.com/games/flying-games', 'https://www.girlsgogames.com/games/horse-racing', 'https://www.girlsgogames.com/games/line-racing', 'https://www.girlsgogames.com/games/motor-racing', 'https://www.girlsgogames.com/games/racing', 'https://www.girlsgogames.com/games/running-games', 'https://www.girlsgogames.com/games/stunt-driving', 'https://www.girlsgogames.com/games/swimming-games', 'https://www.girlsgogames.com/games/uphill-racing', 'https://www.girlsgogames.com/games/uphill_rush_games', 'https://www.girlsgogames.com/games/vehicles']\n"
     ]
    }
   ],
   "source": [
    "game_categories = get_game_category_links('https://www.girlsgogames.com/allcategories')\n",
    "print(game_categories)"
   ]
  },
  {
   "cell_type": "markdown",
   "metadata": {},
   "source": [
    "> The following function was created to obtain a list of all the links within each game category page link representing EACH GAME, it is necessary to import both the requests and BeautifulSoup library, create a list of all the links within the used page text, limit the list to the links representing the games alone, and write the remaining links into a .txt file."
   ]
  },
  {
   "cell_type": "code",
   "execution_count": 6,
   "metadata": {},
   "outputs": [],
   "source": [
    "def get_game_links(game_categories):\n",
    "    \"\"\"\n",
    "    A function to get all game urls given a list of category links.\n",
    "\n",
    "        Args: A list of urls to different game category webpages.\n",
    "\n",
    "        Output: A string representing the .txt file of the game urls separated by commas.\n",
    "    \"\"\"\n",
    "    import requests\n",
    "    from bs4 import BeautifulSoup\n",
    "\n",
    "    each_list_of_games = []\n",
    "    #LOOPS THROUGH EACH CATEGORY\n",
    "    for category in game_categories:\n",
    "        #CREATES A LIST OF ALL LINKS PRESENT\n",
    "        reqs_g = requests.get(category)\n",
    "        soup_g = BeautifulSoup(reqs_g.text, 'html.parser')\n",
    "        \n",
    "        urls_g = []\n",
    "        for link_g in soup_g.find_all('a'):\n",
    "            urls_g.append(link_g.get('href'))\n",
    "\n",
    "        #REMOVES UNNECESSARY LINKS\n",
    "        del urls_g[0:206]\n",
    "        category_name = category[35:]\n",
    "        link_g = f\"https://www.girlsgogames.com/games/{category_name}\"\n",
    "        if link_g in urls_g:\n",
    "            index_of_second = urls_g.index(f\"https://www.girlsgogames.com/games/{category_name}\")\n",
    "            to_use = len(urls_g) - index_of_second\n",
    "            del urls_g[len(urls_g)-to_use:len(urls_g)]\n",
    "            for game in urls_g:\n",
    "                each_list_of_games.append(game)\n",
    "        else:\n",
    "            continue\n",
    "    \n",
    "    #WRITES THE GAME URLS TO A .TXT FILE\n",
    "    each_list_of_games = \",\".join(each_list_of_games)\n",
    "    f = open(\"all_games.txt\", \"w\")\n",
    "    f.write(each_list_of_games)\n",
    "    f.close()\n",
    "\n",
    "    return \"all_games.txt\""
   ]
  },
  {
   "cell_type": "markdown",
   "metadata": {},
   "source": [
    "> The function must be ran with the list of game categories to develop a .txt file containing a string of all the game links."
   ]
  },
  {
   "cell_type": "code",
   "execution_count": 7,
   "metadata": {},
   "outputs": [
    {
     "data": {
      "text/plain": [
       "'all_games.txt'"
      ]
     },
     "execution_count": 7,
     "metadata": {},
     "output_type": "execute_result"
    }
   ],
   "source": [
    "get_game_links(game_categories)"
   ]
  },
  {
   "cell_type": "markdown",
   "metadata": {},
   "source": [
    "> The following function was created to obtain a list of EACH GAME TITLE, it is necessary to create a list of all the game links that are within the input file, refine the links to just where the title is located, separate the results with spaces, and write the list of game titles into a .txt file."
   ]
  },
  {
   "cell_type": "code",
   "execution_count": 12,
   "metadata": {},
   "outputs": [],
   "source": [
    "def get_game_titles(all_game_urls):\n",
    "    \"\"\"\n",
    "    A function to get all game titles given the url to each game from girlsgogames.com.\n",
    "\n",
    "        Args: A string representing a .txt file of the url to each game separated by commas.\n",
    "\n",
    "        Output: A string representing a .txt file of all game titles separated by spaces.\n",
    "    \"\"\"\n",
    "    #CREATES A LIST OF ALL THE GAME URLS\n",
    "    f = open(all_game_urls, \"r\")\n",
    "    all_games = f.read()\n",
    "    f.close()\n",
    "    all_games = all_games.split(\",\")\n",
    "\n",
    "    all_game_titles = []\n",
    "    cropped_games = []\n",
    "\n",
    "    for game in all_games:\n",
    "        if game in cropped_games:\n",
    "            continue\n",
    "        else:\n",
    "            cropped_games.append(game)\n",
    "\n",
    "    #REFINES EACH URL AND FORMATS THE RESULTING GAME TITLE STRING\n",
    "    for game in cropped_games:\n",
    "        all_game_titles.append(game[34:len(all_games)].replace(\"-\", \" \"))\n",
    "\n",
    "\n",
    "    all_game_titles = \" \".join(all_game_titles)\n",
    "\n",
    "    #WRITES THE GAME TITLES TO A .TXT FILE\n",
    "    g = open(\"all_game_titles.txt\", \"w\")\n",
    "    g.write(all_game_titles)\n",
    "    g.close()\n",
    "\n",
    "    return \"all_game_titles.txt\""
   ]
  },
  {
   "cell_type": "markdown",
   "metadata": {},
   "source": [
    "> The function must be ran with a .txt file containing a string of all the game links to develop a .txt file containing a string of all the game titles."
   ]
  },
  {
   "cell_type": "code",
   "execution_count": 13,
   "metadata": {},
   "outputs": [
    {
     "data": {
      "text/plain": [
       "'all_game_titles.txt'"
      ]
     },
     "execution_count": 13,
     "metadata": {},
     "output_type": "execute_result"
    }
   ],
   "source": [
    "get_game_titles('all_games.txt')"
   ]
  },
  {
   "cell_type": "markdown",
   "metadata": {},
   "source": [
    "> The following function was created to obtain a list of the GENRES OF EACH GAME, it is necessary to import both the requests and BeautifulSoup library, create a list of all the game page links, create a list of all the links within each game page link text, limit the list to the links representing the games' listed genres alone, refine the links to just where the game genre name is located, separate the results with spaces, and write the list of game genres into a .txt file."
   ]
  },
  {
   "cell_type": "code",
   "execution_count": 20,
   "metadata": {},
   "outputs": [],
   "source": [
    "def get_game_genres(all_game_urls):\n",
    "    \"\"\"\n",
    "    A function to get all game genres given the url to each game from girlsgogames.com.\n",
    "\n",
    "        Args: A string representing a .txt file of the url to each game separated by commas.\n",
    "\n",
    "        Output: A string representing a .txt file of all game genres separated by spaces.\n",
    "    \"\"\"\n",
    "    import requests\n",
    "    from bs4 import BeautifulSoup\n",
    "\n",
    "    #CREATES A LIST OF ALL THE GAME URLS\n",
    "    f = open(all_game_urls, \"r\")\n",
    "    all_games = f.read()\n",
    "    f.close()\n",
    "    all_games = all_games.split(\",\")\n",
    "\n",
    "    each_list_of_genre_urls = []\n",
    "    for game in all_games:\n",
    "        #CREATES A LIST OF ALL LINKS PRESENT IN THE CURRENT GAME LINK\n",
    "        reqs_l = requests.get(game)\n",
    "        soup_l = BeautifulSoup(reqs_l.text, 'html.parser')\n",
    "        \n",
    "        urls_l = []\n",
    "        for link_l in soup_l.find_all('a'):\n",
    "            urls_l.append(link_l.get('href'))\n",
    "\n",
    "        #REMOVES UNNECESSARY LINKS\n",
    "        pre_link = \"https://www.girlsgogames.com/\"\n",
    "        if pre_link in urls_l:\n",
    "            urls_l.remove(\"https://www.girlsgogames.com/\")\n",
    "        else:\n",
    "            continue\n",
    "        link_l = \"https://www.girlsgogames.com/\"\n",
    "        link_l_two = 'https://www.girlsgogames.com/disclaimer'\n",
    "        if link_l in urls_l and link_l_two in urls_l:\n",
    "            key_index = urls_l.index(\"https://www.girlsgogames.com/\")\n",
    "            del urls_l[0:key_index+2]\n",
    "            key_index_two = urls_l.index('https://www.girlsgogames.com/disclaimer')\n",
    "            diff = len(urls_l) - key_index_two\n",
    "            del urls_l[len(urls_l)-diff:len(urls_l)]\n",
    "            each_list_of_genre_urls.append(urls_l)\n",
    "        else:\n",
    "            continue\n",
    "            \n",
    "    #REFINES EACH URL AND FORMATS THE RESULTING GAME GENRE STRING\n",
    "    all_game_genres = []\n",
    "    for list_l in each_list_of_genre_urls:\n",
    "        for genre_url in list_l:\n",
    "            all_game_genres.append(genre_url[35:len(all_games)].replace(\"-\", \" \"))\n",
    "\n",
    "    all_game_genres = \" \".join(all_game_genres)\n",
    "\n",
    "    #WRITES THE GAME GENRES TO A .TXT FILE\n",
    "    g = open(\"all_game_genres.txt\", \"w\")\n",
    "    g.write(all_game_genres)\n",
    "    g.close()\n",
    "\n",
    "    return \"all_game_genres.txt\""
   ]
  },
  {
   "cell_type": "markdown",
   "metadata": {},
   "source": [
    "> The function must be ran with a .txt file containing a string of all the game links to develop a .txt file containing a string of all the game genres. The function is expected to have a longer processing time."
   ]
  },
  {
   "cell_type": "code",
   "execution_count": 21,
   "metadata": {},
   "outputs": [
    {
     "data": {
      "text/plain": [
       "'all_game_genres.txt'"
      ]
     },
     "execution_count": 21,
     "metadata": {},
     "output_type": "execute_result"
    }
   ],
   "source": [
    "get_game_genres('all_games.txt')"
   ]
  },
  {
   "cell_type": "markdown",
   "metadata": {},
   "source": [
    "> The following code was used to prepare the collected variables to be represented in the team's desired visuals. The instructions for further developing each complete visual outside of python code is commented within each visual's coding section.\n",
    "\n",
    "> The first desired visual was a bar graph of the age ranges that AI associates each of the most popular game genres with. All listed steps are necessary to replicate or create similar visuals."
   ]
  },
  {
   "cell_type": "code",
   "execution_count": null,
   "metadata": {},
   "outputs": [],
   "source": [
    "# What basic variables we used\n",
    "# If we needed to alter the variable type first or any formating\n",
    "# If we needed to place the variable into another system (ex. excel) or change it's file type\n",
    "# What outside site or libraries were needed\n",
    "# How we made the graph on the outside site or used the library"
   ]
  },
  {
   "cell_type": "markdown",
   "metadata": {},
   "source": [
    "> The second and third desired visuals were two word clouds. One representing the most common girl game title words and one representing the most common boy game title words."
   ]
  },
  {
   "cell_type": "code",
   "execution_count": null,
   "metadata": {},
   "outputs": [],
   "source": [
    "# What basic variables we used\n",
    "# If we needed to alter the variable type first or any formating\n",
    "# If we needed to place the variable into another system (ex. excel) or change it's file type\n",
    "# What outside site or libraries were needed\n",
    "# How we made the graph on the outside site or used the library"
   ]
  },
  {
   "cell_type": "markdown",
   "metadata": {},
   "source": [
    "> The fourth and fifth desired visuals were two bar graphs. One identifying most common girl game genres and one identifying the most common boy game genres."
   ]
  },
  {
   "cell_type": "code",
   "execution_count": null,
   "metadata": {},
   "outputs": [],
   "source": [
    "# What basic variables we used\n",
    "# If we needed to alter the variable type first or any formating\n",
    "# If we needed to place the variable into another system (ex. excel) or change it's file type\n",
    "# What outside site or libraries were needed\n",
    "# How we made the graph on the outside site or used the library"
   ]
  },
  {
   "cell_type": "markdown",
   "metadata": {},
   "source": [
    "##### **Results:**\n",
    "\n",
    "> Visual 1:"
   ]
  },
  {
   "cell_type": "markdown",
   "metadata": {},
   "source": [
    ">>>> PUT VISUAL ONE HERE"
   ]
  },
  {
   "cell_type": "markdown",
   "metadata": {},
   "source": [
    "> Visual 2 and 3:"
   ]
  },
  {
   "cell_type": "markdown",
   "metadata": {},
   "source": [
    ">>>> PUT VISUAL TWO AND THREE HERE"
   ]
  },
  {
   "cell_type": "markdown",
   "metadata": {},
   "source": [
    "> Visual 4 and 5:"
   ]
  },
  {
   "cell_type": "markdown",
   "metadata": {},
   "source": [
    ">>>> PUT VISUAL FOUR AND FIVE HERE"
   ]
  },
  {
   "cell_type": "markdown",
   "metadata": {},
   "source": [
    "##### **Interpretation:**"
   ]
  },
  {
   "cell_type": "markdown",
   "metadata": {},
   "source": [
    "> Draws scientifically sound conclusions, states important insights/lessons, analyzes ethical aspects of the data sourcing, any ethical/contextual implications, states project difficulties and future plans.\n"
   ]
  }
 ],
 "metadata": {
  "kernelspec": {
   "display_name": "base",
   "language": "python",
   "name": "python3"
  },
  "language_info": {
   "codemirror_mode": {
    "name": "ipython",
    "version": 3
   },
   "file_extension": ".py",
   "mimetype": "text/x-python",
   "name": "python",
   "nbconvert_exporter": "python",
   "pygments_lexer": "ipython3",
   "version": "3.11.5"
  }
 },
 "nbformat": 4,
 "nbformat_minor": 2
}
